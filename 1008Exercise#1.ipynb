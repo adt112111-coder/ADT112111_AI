{
 "cells": [
  {
   "cell_type": "code",
   "execution_count": 5,
   "id": "c0093b8a-74c9-41f3-9d27-09006e462c79",
   "metadata": {},
   "outputs": [
    {
     "name": "stdin",
     "output_type": "stream",
     "text": [
      "請輸入正整數: 100\n"
     ]
    }
   ],
   "source": [
    "sum = 0\n",
    "n = int(input(\"請輸入正整數:\"))"
   ]
  },
  {
   "cell_type": "code",
   "execution_count": 7,
   "id": "e4ad2735-89ad-48f6-a41a-e92c2371a827",
   "metadata": {},
   "outputs": [],
   "source": [
    "for i in range(1, n+1):\n",
    "    sum += i"
   ]
  },
  {
   "cell_type": "code",
   "execution_count": 8,
   "id": "d15b9e6d-2c98-47ce-a2d1-63992cf79bbd",
   "metadata": {},
   "outputs": [
    {
     "name": "stdout",
     "output_type": "stream",
     "text": [
      "1到100的整數和為10100\n"
     ]
    }
   ],
   "source": [
    "print (\"1到%d的整數和為%d\" % (n, sum))"
   ]
  },
  {
   "cell_type": "code",
   "execution_count": null,
   "id": "46216080-b592-4a34-b3f6-b472b45ddbc2",
   "metadata": {},
   "outputs": [],
   "source": []
  }
 ],
 "metadata": {
  "kernelspec": {
   "display_name": "Python [conda env:base] *",
   "language": "python",
   "name": "conda-base-py"
  },
  "language_info": {
   "codemirror_mode": {
    "name": "ipython",
    "version": 3
   },
   "file_extension": ".py",
   "mimetype": "text/x-python",
   "name": "python",
   "nbconvert_exporter": "python",
   "pygments_lexer": "ipython3",
   "version": "3.13.5"
  }
 },
 "nbformat": 4,
 "nbformat_minor": 5
}
